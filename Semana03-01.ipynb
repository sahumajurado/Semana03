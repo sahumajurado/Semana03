{
 "cells": [
  {
   "cell_type": "markdown",
   "id": "956b0ef6",
   "metadata": {},
   "source": [
    "# Semana 03"
   ]
  },
  {
   "cell_type": "markdown",
   "id": "df3633a3",
   "metadata": {},
   "source": [
    "Name: Gerson Daniel Sahuma Jurado"
   ]
  },
  {
   "cell_type": "raw",
   "id": "c8a742ae",
   "metadata": {},
   "source": [
    "Temas:\n",
    "1. Numeros\n",
    "2. Variables\n",
    "3. Manejo de cadenas\n",
    "4. Ingreso de datos por teclado\n",
    "5. Operadores"
   ]
  },
  {
   "cell_type": "markdown",
   "id": "b8a128d6",
   "metadata": {},
   "source": [
    "1. Numeros"
   ]
  },
  {
   "cell_type": "code",
   "execution_count": 1,
   "id": "cdd82ae5",
   "metadata": {},
   "outputs": [
    {
     "data": {
      "text/plain": [
       "7220"
      ]
     },
     "execution_count": 1,
     "metadata": {},
     "output_type": "execute_result"
    }
   ],
   "source": [
    "9565 - 2345"
   ]
  },
  {
   "cell_type": "code",
   "execution_count": 2,
   "id": "b678789c",
   "metadata": {},
   "outputs": [
    {
     "data": {
      "text/plain": [
       "60"
      ]
     },
     "execution_count": 2,
     "metadata": {},
     "output_type": "execute_result"
    }
   ],
   "source": [
    "15+45"
   ]
  },
  {
   "cell_type": "code",
   "execution_count": 3,
   "id": "a2bd5d05",
   "metadata": {},
   "outputs": [
    {
     "data": {
      "text/plain": [
       "1495"
      ]
     },
     "execution_count": 3,
     "metadata": {},
     "output_type": "execute_result"
    }
   ],
   "source": [
    "65*23"
   ]
  },
  {
   "cell_type": "code",
   "execution_count": 4,
   "id": "76ab6883",
   "metadata": {},
   "outputs": [
    {
     "data": {
      "text/plain": [
       "45.0"
      ]
     },
     "execution_count": 4,
     "metadata": {},
     "output_type": "execute_result"
    }
   ],
   "source": [
    "135/3"
   ]
  }
 ],
 "metadata": {
  "kernelspec": {
   "display_name": "Python 3 (ipykernel)",
   "language": "python",
   "name": "python3"
  },
  "language_info": {
   "codemirror_mode": {
    "name": "ipython",
    "version": 3
   },
   "file_extension": ".py",
   "mimetype": "text/x-python",
   "name": "python",
   "nbconvert_exporter": "python",
   "pygments_lexer": "ipython3",
   "version": "3.9.13"
  }
 },
 "nbformat": 4,
 "nbformat_minor": 5
}
