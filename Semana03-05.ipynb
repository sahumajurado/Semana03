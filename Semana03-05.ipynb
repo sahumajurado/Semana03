{
 "cells": [
  {
   "cell_type": "markdown",
   "id": "b7c1125b",
   "metadata": {},
   "source": [
    "# Semana 03"
   ]
  },
  {
   "cell_type": "markdown",
   "id": "96a2f57e",
   "metadata": {},
   "source": [
    "5. Operadores"
   ]
  },
  {
   "cell_type": "code",
   "execution_count": 1,
   "id": "0df3bf4a",
   "metadata": {},
   "outputs": [],
   "source": [
    "#5.1. Operadores aritméticos\n",
    "# Se tiene: +, -, *, /, **, %, //"
   ]
  },
  {
   "cell_type": "code",
   "execution_count": 2,
   "id": "30cac27a",
   "metadata": {},
   "outputs": [],
   "source": [
    "numero = 23\n",
    "numero2= 4"
   ]
  },
  {
   "cell_type": "code",
   "execution_count": 4,
   "id": "48e9e211",
   "metadata": {},
   "outputs": [],
   "source": [
    "suma = numero + numero2"
   ]
  },
  {
   "cell_type": "code",
   "execution_count": 5,
   "id": "dade758a",
   "metadata": {},
   "outputs": [
    {
     "data": {
      "text/plain": [
       "27"
      ]
     },
     "execution_count": 5,
     "metadata": {},
     "output_type": "execute_result"
    }
   ],
   "source": [
    "suma"
   ]
  },
  {
   "cell_type": "code",
   "execution_count": 7,
   "id": "f9b36f39",
   "metadata": {},
   "outputs": [
    {
     "data": {
      "text/plain": [
       "3"
      ]
     },
     "execution_count": 7,
     "metadata": {},
     "output_type": "execute_result"
    }
   ],
   "source": [
    "residuo = numero%numero2\n",
    "residuo"
   ]
  },
  {
   "cell_type": "code",
   "execution_count": 8,
   "id": "0a33433c",
   "metadata": {},
   "outputs": [
    {
     "data": {
      "text/plain": [
       "5"
      ]
     },
     "execution_count": 8,
     "metadata": {},
     "output_type": "execute_result"
    }
   ],
   "source": [
    "cociente = numero // numero2\n",
    "cociente"
   ]
  },
  {
   "cell_type": "code",
   "execution_count": 9,
   "id": "4328f789",
   "metadata": {},
   "outputs": [
    {
     "data": {
      "text/plain": [
       "8"
      ]
     },
     "execution_count": 9,
     "metadata": {},
     "output_type": "execute_result"
    }
   ],
   "source": [
    "#5.2. Operadores de asignaación\n",
    "# Se tiene: = , +=, -=, *=, /=, **=\n",
    "n = 3\n",
    "n += 5\n",
    "n"
   ]
  },
  {
   "cell_type": "code",
   "execution_count": 10,
   "id": "15e25f9c",
   "metadata": {},
   "outputs": [
    {
     "data": {
      "text/plain": [
       "16"
      ]
     },
     "execution_count": 10,
     "metadata": {},
     "output_type": "execute_result"
    }
   ],
   "source": [
    "n2=4\n",
    "n2 **= 2\n",
    "n2"
   ]
  },
  {
   "cell_type": "code",
   "execution_count": 11,
   "id": "6b8c19d6",
   "metadata": {},
   "outputs": [
    {
     "data": {
      "text/plain": [
       "True"
      ]
     },
     "execution_count": 11,
     "metadata": {},
     "output_type": "execute_result"
    }
   ],
   "source": [
    "#5.3. Operadores de comparación\n",
    "#Se tiene: ==, !=, <, >, <=, >=\n",
    "nombre1 = \"f\"\n",
    "nombre2 = \"d\"\n",
    "nombre1 != nombre2"
   ]
  },
  {
   "cell_type": "code",
   "execution_count": 12,
   "id": "cccdabcb",
   "metadata": {},
   "outputs": [],
   "source": [
    "## 5.4. Operadores lógicos\n",
    "#Se tiene: and, or, not\n",
    "#Solo devuelve True or False"
   ]
  },
  {
   "cell_type": "code",
   "execution_count": 13,
   "id": "0373d51c",
   "metadata": {},
   "outputs": [
    {
     "data": {
      "text/plain": [
       "False"
      ]
     },
     "execution_count": 13,
     "metadata": {},
     "output_type": "execute_result"
    }
   ],
   "source": [
    "c1= 4\n",
    "c2= 3\n",
    "not(c1>c2)"
   ]
  },
  {
   "cell_type": "code",
   "execution_count": 14,
   "id": "af7045a1",
   "metadata": {},
   "outputs": [],
   "source": [
    "# Operadores de pertenencia\n",
    "# Se tiene: in, not in\n",
    "aula = [\"Juan\", \"Marcos\", \"Luis\"]\n",
    "a1 = \"Juan\"\n",
    "a2 = \"Marcos\""
   ]
  },
  {
   "cell_type": "code",
   "execution_count": 16,
   "id": "17e75298",
   "metadata": {},
   "outputs": [
    {
     "data": {
      "text/plain": [
       "True"
      ]
     },
     "execution_count": 16,
     "metadata": {},
     "output_type": "execute_result"
    }
   ],
   "source": [
    "#¿Juan esta en aula?\n",
    "a2 in aula"
   ]
  },
  {
   "cell_type": "code",
   "execution_count": 17,
   "id": "8abc5b13",
   "metadata": {},
   "outputs": [
    {
     "data": {
      "text/plain": [
       "False"
      ]
     },
     "execution_count": 17,
     "metadata": {},
     "output_type": "execute_result"
    }
   ],
   "source": [
    "#¿Diego esta en el aula?\n",
    "a1 not in aula"
   ]
  },
  {
   "cell_type": "code",
   "execution_count": 18,
   "id": "72e5b033",
   "metadata": {},
   "outputs": [],
   "source": [
    "#6. Operadores de identidad\n",
    "# Se tiene: is, is not"
   ]
  },
  {
   "cell_type": "code",
   "execution_count": 19,
   "id": "14da7d44",
   "metadata": {},
   "outputs": [],
   "source": [
    "aula1 = [\"SDG\",\"ASD\"]\n",
    "aula2 = [\"SDG\", \"ASD\"]"
   ]
  },
  {
   "cell_type": "code",
   "execution_count": 20,
   "id": "b6231493",
   "metadata": {},
   "outputs": [
    {
     "data": {
      "text/plain": [
       "False"
      ]
     },
     "execution_count": 20,
     "metadata": {},
     "output_type": "execute_result"
    }
   ],
   "source": [
    "aula2 is aula1"
   ]
  },
  {
   "cell_type": "code",
   "execution_count": 21,
   "id": "df064261",
   "metadata": {},
   "outputs": [
    {
     "data": {
      "text/plain": [
       "['SDG', 'ASD', 'Marcos']"
      ]
     },
     "execution_count": 21,
     "metadata": {},
     "output_type": "execute_result"
    }
   ],
   "source": [
    "#Añadir un elemento a la lista\n",
    "aula2.append(\"Marcos\")\n",
    "aula2"
   ]
  },
  {
   "cell_type": "code",
   "execution_count": null,
   "id": "1a7ab8ae",
   "metadata": {},
   "outputs": [],
   "source": []
  }
 ],
 "metadata": {
  "kernelspec": {
   "display_name": "Python 3 (ipykernel)",
   "language": "python",
   "name": "python3"
  },
  "language_info": {
   "codemirror_mode": {
    "name": "ipython",
    "version": 3
   },
   "file_extension": ".py",
   "mimetype": "text/x-python",
   "name": "python",
   "nbconvert_exporter": "python",
   "pygments_lexer": "ipython3",
   "version": "3.9.13"
  }
 },
 "nbformat": 4,
 "nbformat_minor": 5
}
