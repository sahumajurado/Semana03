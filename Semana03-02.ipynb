{
 "cells": [
  {
   "cell_type": "markdown",
   "id": "19f01805",
   "metadata": {},
   "source": [
    "# Semana 03"
   ]
  },
  {
   "cell_type": "markdown",
   "id": "1e5831e7",
   "metadata": {},
   "source": [
    "Name: Gerson Daniel Sahuma Jurado "
   ]
  },
  {
   "cell_type": "markdown",
   "id": "27eb6e02",
   "metadata": {},
   "source": [
    "2. Variables"
   ]
  },
  {
   "cell_type": "code",
   "execution_count": 2,
   "id": "17de093b",
   "metadata": {},
   "outputs": [],
   "source": [
    "## Siempre deben iniciar con una letra o un guión abajo.\n",
    "## Nunca con un número u otro símbolo"
   ]
  },
  {
   "cell_type": "code",
   "execution_count": 4,
   "id": "787405cf",
   "metadata": {},
   "outputs": [],
   "source": [
    "edad = 20"
   ]
  },
  {
   "cell_type": "code",
   "execution_count": 6,
   "id": "d6c1bb13",
   "metadata": {},
   "outputs": [
    {
     "data": {
      "text/plain": [
       "20"
      ]
     },
     "execution_count": 6,
     "metadata": {},
     "output_type": "execute_result"
    }
   ],
   "source": [
    "edad"
   ]
  },
  {
   "cell_type": "code",
   "execution_count": 8,
   "id": "fb3a4c21",
   "metadata": {},
   "outputs": [],
   "source": [
    "nombre = \"Daniel\""
   ]
  },
  {
   "cell_type": "code",
   "execution_count": 10,
   "id": "ce14650e",
   "metadata": {},
   "outputs": [
    {
     "data": {
      "text/plain": [
       "'Daniel'"
      ]
     },
     "execution_count": 10,
     "metadata": {},
     "output_type": "execute_result"
    }
   ],
   "source": [
    "nombre"
   ]
  },
  {
   "cell_type": "code",
   "execution_count": 12,
   "id": "9d1bd3de",
   "metadata": {},
   "outputs": [],
   "source": [
    "apellido = \"Sahuma\""
   ]
  },
  {
   "cell_type": "code",
   "execution_count": 13,
   "id": "e5508ceb",
   "metadata": {},
   "outputs": [
    {
     "data": {
      "text/plain": [
       "'Sahuma'"
      ]
     },
     "execution_count": 13,
     "metadata": {},
     "output_type": "execute_result"
    }
   ],
   "source": [
    "apellido"
   ]
  },
  {
   "cell_type": "code",
   "execution_count": 16,
   "id": "0928a196",
   "metadata": {},
   "outputs": [],
   "source": [
    "ncompleto = nombre + \" \" + apellido"
   ]
  },
  {
   "cell_type": "code",
   "execution_count": 17,
   "id": "70358f27",
   "metadata": {},
   "outputs": [
    {
     "data": {
      "text/plain": [
       "'Daniel Sahuma'"
      ]
     },
     "execution_count": 17,
     "metadata": {},
     "output_type": "execute_result"
    }
   ],
   "source": [
    "ncompleto"
   ]
  },
  {
   "cell_type": "code",
   "execution_count": 19,
   "id": "18d1fd98",
   "metadata": {},
   "outputs": [],
   "source": [
    "##Para saber el tipo de variable que utilizamos, usamos type()"
   ]
  },
  {
   "cell_type": "code",
   "execution_count": 20,
   "id": "6ca037cc",
   "metadata": {},
   "outputs": [
    {
     "data": {
      "text/plain": [
       "str"
      ]
     },
     "execution_count": 20,
     "metadata": {},
     "output_type": "execute_result"
    }
   ],
   "source": [
    "type(ncompleto)"
   ]
  },
  {
   "cell_type": "code",
   "execution_count": 21,
   "id": "9b03d0cc",
   "metadata": {},
   "outputs": [
    {
     "data": {
      "text/plain": [
       "int"
      ]
     },
     "execution_count": 21,
     "metadata": {},
     "output_type": "execute_result"
    }
   ],
   "source": [
    "type (edad)"
   ]
  },
  {
   "cell_type": "code",
   "execution_count": 22,
   "id": "b9abef38",
   "metadata": {},
   "outputs": [
    {
     "data": {
      "text/plain": [
       "'100'"
      ]
     },
     "execution_count": 22,
     "metadata": {},
     "output_type": "execute_result"
    }
   ],
   "source": [
    "#Para convertir un número en una cadena\n",
    "num = 100\n",
    "nomb = str(num)\n",
    "nomb"
   ]
  },
  {
   "cell_type": "code",
   "execution_count": 23,
   "id": "e5521cfc",
   "metadata": {},
   "outputs": [],
   "source": []
  },
  {
   "cell_type": "code",
   "execution_count": 24,
   "id": "ed951dea",
   "metadata": {},
   "outputs": [
    {
     "data": {
      "text/plain": [
       "67"
      ]
     },
     "execution_count": 24,
     "metadata": {},
     "output_type": "execute_result"
    }
   ],
   "source": [
    "#Para convertir una cadena a un entero\n",
    "cad = \"67\"\n",
    "n = int(cad)\n",
    "n"
   ]
  },
  {
   "cell_type": "code",
   "execution_count": 25,
   "id": "a85df624",
   "metadata": {},
   "outputs": [
    {
     "data": {
      "text/plain": [
       "345.0"
      ]
     },
     "execution_count": 25,
     "metadata": {},
     "output_type": "execute_result"
    }
   ],
   "source": [
    "#Para converit una cadena a un decimal\n",
    "dec = \"345\"\n",
    "f = float(dec)\n",
    "f"
   ]
  },
  {
   "cell_type": "code",
   "execution_count": null,
   "id": "941f534f",
   "metadata": {},
   "outputs": [],
   "source": []
  }
 ],
 "metadata": {
  "kernelspec": {
   "display_name": "Python 3 (ipykernel)",
   "language": "python",
   "name": "python3"
  },
  "language_info": {
   "codemirror_mode": {
    "name": "ipython",
    "version": 3
   },
   "file_extension": ".py",
   "mimetype": "text/x-python",
   "name": "python",
   "nbconvert_exporter": "python",
   "pygments_lexer": "ipython3",
   "version": "3.9.13"
  }
 },
 "nbformat": 4,
 "nbformat_minor": 5
}
