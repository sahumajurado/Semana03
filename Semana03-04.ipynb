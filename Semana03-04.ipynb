{
 "cells": [
  {
   "cell_type": "markdown",
   "id": "0ba6d794",
   "metadata": {},
   "source": [
    "# Semana 03"
   ]
  },
  {
   "cell_type": "markdown",
   "id": "42fb5f2e",
   "metadata": {},
   "source": [
    "4. Ingreso de datos por teclado"
   ]
  },
  {
   "cell_type": "code",
   "execution_count": null,
   "id": "4cc3289e",
   "metadata": {},
   "outputs": [
    {
     "name": "stdout",
     "output_type": "stream",
     "text": [
      "Ingrese un valor: 3\n",
      "Numero 1: \n",
      "5\n",
      "Numero 2: \n",
      "7\n",
      "Numero 3: \n"
     ]
    }
   ],
   "source": [
    "#Ingreso de datos por teclado como cadena\n",
    "n = input(\"Ingrese un valor: \")\n",
    "print(\"Numero 1: \")\n",
    "numero=int(input())\n",
    "print(\"Numero 2: \")\n",
    "numero2=int(input())\n",
    "print(\"Numero 3: \")\n",
    "numero3 = int(input())\n",
    "resultado = numero + numero2 + numero3\n",
    "print(f\"La suma de {numero} + {numero2} + {numero3} es = \" + resultado)"
   ]
  },
  {
   "cell_type": "code",
   "execution_count": null,
   "id": "1c1b82bd",
   "metadata": {},
   "outputs": [],
   "source": []
  },
  {
   "cell_type": "code",
   "execution_count": null,
   "id": "ead81eff",
   "metadata": {},
   "outputs": [],
   "source": []
  },
  {
   "cell_type": "code",
   "execution_count": null,
   "id": "6b018f57",
   "metadata": {},
   "outputs": [],
   "source": []
  },
  {
   "cell_type": "code",
   "execution_count": null,
   "id": "c9622c31",
   "metadata": {},
   "outputs": [],
   "source": []
  },
  {
   "cell_type": "code",
   "execution_count": null,
   "id": "b8c7d58b",
   "metadata": {},
   "outputs": [],
   "source": []
  },
  {
   "cell_type": "code",
   "execution_count": null,
   "id": "4ad067c2",
   "metadata": {},
   "outputs": [],
   "source": []
  },
  {
   "cell_type": "code",
   "execution_count": null,
   "id": "c113ce5a",
   "metadata": {},
   "outputs": [],
   "source": []
  },
  {
   "cell_type": "code",
   "execution_count": null,
   "id": "43338e30",
   "metadata": {},
   "outputs": [],
   "source": []
  }
 ],
 "metadata": {
  "kernelspec": {
   "display_name": "Python 3 (ipykernel)",
   "language": "python",
   "name": "python3"
  },
  "language_info": {
   "codemirror_mode": {
    "name": "ipython",
    "version": 3
   },
   "file_extension": ".py",
   "mimetype": "text/x-python",
   "name": "python",
   "nbconvert_exporter": "python",
   "pygments_lexer": "ipython3",
   "version": "3.9.13"
  }
 },
 "nbformat": 4,
 "nbformat_minor": 5
}
