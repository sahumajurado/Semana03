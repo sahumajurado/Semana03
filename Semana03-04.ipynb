{
 "cells": [
  {
   "cell_type": "markdown",
   "id": "829a10cb",
   "metadata": {},
   "source": [
    "# Semana 03"
   ]
  },
  {
   "cell_type": "markdown",
   "id": "c393c775",
   "metadata": {},
   "source": [
    "4. Ingreso de datos por teclado"
   ]
  },
  {
   "cell_type": "code",
   "execution_count": 9,
   "id": "f1db944a",
   "metadata": {},
   "outputs": [
    {
     "name": "stdout",
     "output_type": "stream",
     "text": [
      "Ingrese un valor: 3\n",
      "Numero 1: \n",
      "\n",
      "Numero 2: \n",
      "7\n",
      "Numero 3: \n",
      "4\n",
      "La suma de  + 7 + 4 es = \n"
     ]
    }
   ],
   "source": [
    "#Ingreso de datos por teclado como cadena\n",
    "n = input(\"Ingrese un valor: \")\n",
    "print(\"Numero 1: \")\n",
    "numero=input()\n",
    "print(\"Numero 2: \")\n",
    "numero2=input()\n",
    "print(\"Numero 3: \")\n",
    "numero3 = input()\n",
    "resultado = numero + numero2 + numero3\n",
    "print(f\"La suma de {numero} + {numero2} + {numero3} es = \")"
   ]
  },
  {
   "cell_type": "code",
   "execution_count": null,
   "id": "caa575f3",
   "metadata": {},
   "outputs": [],
   "source": []
  },
  {
   "cell_type": "code",
   "execution_count": null,
   "id": "b3c4faaa",
   "metadata": {},
   "outputs": [],
   "source": []
  },
  {
   "cell_type": "code",
   "execution_count": null,
   "id": "f71126ff",
   "metadata": {},
   "outputs": [],
   "source": []
  },
  {
   "cell_type": "code",
   "execution_count": null,
   "id": "8ff4e73b",
   "metadata": {},
   "outputs": [],
   "source": []
  },
  {
   "cell_type": "code",
   "execution_count": null,
   "id": "5ab85c85",
   "metadata": {},
   "outputs": [],
   "source": []
  },
  {
   "cell_type": "code",
   "execution_count": null,
   "id": "fd6e90b7",
   "metadata": {},
   "outputs": [],
   "source": []
  },
  {
   "cell_type": "code",
   "execution_count": null,
   "id": "c94ed799",
   "metadata": {},
   "outputs": [],
   "source": []
  }
 ],
 "metadata": {
  "kernelspec": {
   "display_name": "Python 3 (ipykernel)",
   "language": "python",
   "name": "python3"
  },
  "language_info": {
   "codemirror_mode": {
    "name": "ipython",
    "version": 3
   },
   "file_extension": ".py",
   "mimetype": "text/x-python",
   "name": "python",
   "nbconvert_exporter": "python",
   "pygments_lexer": "ipython3",
   "version": "3.9.13"
  }
 },
 "nbformat": 4,
 "nbformat_minor": 5
}
