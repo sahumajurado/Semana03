{
 "cells": [
  {
   "cell_type": "markdown",
   "id": "226bb491",
   "metadata": {},
   "source": [
    "# Semana 03"
   ]
  },
  {
   "cell_type": "markdown",
   "id": "eeaa1445",
   "metadata": {},
   "source": [
    "Name: Gerson Daniel Sahuma Jurado "
   ]
  },
  {
   "cell_type": "markdown",
   "id": "d098134e",
   "metadata": {},
   "source": [
    "2. Variables"
   ]
  },
  {
   "cell_type": "code",
   "execution_count": 2,
   "id": "8b9caa69",
   "metadata": {},
   "outputs": [],
   "source": [
    "## Siempre deben iniciar con una letra o un guión abajo.\n",
    "## Nunca con un número u otro símbolo"
   ]
  },
  {
   "cell_type": "code",
   "execution_count": 4,
   "id": "0be2bffc",
   "metadata": {},
   "outputs": [],
   "source": [
    "edad = 20"
   ]
  },
  {
   "cell_type": "code",
   "execution_count": 6,
   "id": "9353fcb1",
   "metadata": {},
   "outputs": [
    {
     "data": {
      "text/plain": [
       "20"
      ]
     },
     "execution_count": 6,
     "metadata": {},
     "output_type": "execute_result"
    }
   ],
   "source": [
    "edad"
   ]
  },
  {
   "cell_type": "code",
   "execution_count": 8,
   "id": "0ad1c963",
   "metadata": {},
   "outputs": [],
   "source": [
    "nombre = \"Daniel\""
   ]
  },
  {
   "cell_type": "code",
   "execution_count": 10,
   "id": "cd0b24aa",
   "metadata": {},
   "outputs": [
    {
     "data": {
      "text/plain": [
       "'Daniel'"
      ]
     },
     "execution_count": 10,
     "metadata": {},
     "output_type": "execute_result"
    }
   ],
   "source": [
    "nombre"
   ]
  },
  {
   "cell_type": "code",
   "execution_count": 12,
   "id": "44af4c7d",
   "metadata": {},
   "outputs": [],
   "source": [
    "apellido = \"Sahuma\""
   ]
  },
  {
   "cell_type": "code",
   "execution_count": 13,
   "id": "64abfdd4",
   "metadata": {},
   "outputs": [
    {
     "data": {
      "text/plain": [
       "'Sahuma'"
      ]
     },
     "execution_count": 13,
     "metadata": {},
     "output_type": "execute_result"
    }
   ],
   "source": [
    "apellido"
   ]
  },
  {
   "cell_type": "code",
   "execution_count": 16,
   "id": "ef0ee702",
   "metadata": {},
   "outputs": [],
   "source": [
    "ncompleto = nombre + \" \" + apellido"
   ]
  },
  {
   "cell_type": "code",
   "execution_count": 17,
   "id": "5ea4c257",
   "metadata": {},
   "outputs": [
    {
     "data": {
      "text/plain": [
       "'Daniel Sahuma'"
      ]
     },
     "execution_count": 17,
     "metadata": {},
     "output_type": "execute_result"
    }
   ],
   "source": [
    "ncompleto"
   ]
  },
  {
   "cell_type": "code",
   "execution_count": 19,
   "id": "68141029",
   "metadata": {},
   "outputs": [],
   "source": [
    "##Para saber el tipo de variable que utilizamos, usamos type()"
   ]
  },
  {
   "cell_type": "code",
   "execution_count": 20,
   "id": "2cb65d23",
   "metadata": {},
   "outputs": [
    {
     "data": {
      "text/plain": [
       "str"
      ]
     },
     "execution_count": 20,
     "metadata": {},
     "output_type": "execute_result"
    }
   ],
   "source": [
    "type(ncompleto)"
   ]
  },
  {
   "cell_type": "code",
   "execution_count": 21,
   "id": "a4a0737f",
   "metadata": {},
   "outputs": [
    {
     "data": {
      "text/plain": [
       "int"
      ]
     },
     "execution_count": 21,
     "metadata": {},
     "output_type": "execute_result"
    }
   ],
   "source": [
    "type (edad)"
   ]
  },
  {
   "cell_type": "code",
   "execution_count": 22,
   "id": "4bc04741",
   "metadata": {},
   "outputs": [
    {
     "data": {
      "text/plain": [
       "'100'"
      ]
     },
     "execution_count": 22,
     "metadata": {},
     "output_type": "execute_result"
    }
   ],
   "source": [
    "#Para convertir un número en una cadena\n",
    "num = 100\n",
    "nomb = str(num)\n",
    "nomb"
   ]
  },
  {
   "cell_type": "code",
   "execution_count": 24,
   "id": "c97cdab7",
   "metadata": {},
   "outputs": [
    {
     "data": {
      "text/plain": [
       "67"
      ]
     },
     "execution_count": 24,
     "metadata": {},
     "output_type": "execute_result"
    }
   ],
   "source": [
    "#Para convertir una cadena a un entero\n",
    "cad = \"67\"\n",
    "n = int(cad)\n",
    "n"
   ]
  },
  {
   "cell_type": "code",
   "execution_count": 25,
   "id": "6d6879a5",
   "metadata": {},
   "outputs": [
    {
     "data": {
      "text/plain": [
       "345.0"
      ]
     },
     "execution_count": 25,
     "metadata": {},
     "output_type": "execute_result"
    }
   ],
   "source": [
    "#Para converit una cadena a un decimal\n",
    "dec = \"345\"\n",
    "f = float(dec)\n",
    "f"
   ]
  }
 ],
 "metadata": {
  "kernelspec": {
   "display_name": "Python 3 (ipykernel)",
   "language": "python",
   "name": "python3"
  },
  "language_info": {
   "codemirror_mode": {
    "name": "ipython",
    "version": 3
   },
   "file_extension": ".py",
   "mimetype": "text/x-python",
   "name": "python",
   "nbconvert_exporter": "python",
   "pygments_lexer": "ipython3",
   "version": "3.9.13"
  }
 },
 "nbformat": 4,
 "nbformat_minor": 5
}
