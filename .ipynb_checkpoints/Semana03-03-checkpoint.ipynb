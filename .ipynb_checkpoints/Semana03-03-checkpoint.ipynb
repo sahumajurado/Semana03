{
 "cells": [
  {
   "cell_type": "markdown",
   "id": "3801b02e",
   "metadata": {},
   "source": [
    "# Semana 03"
   ]
  },
  {
   "cell_type": "markdown",
   "id": "3c9e8fb6",
   "metadata": {},
   "source": [
    "Name: Daniel Sahuma Jurado"
   ]
  },
  {
   "cell_type": "raw",
   "id": "f8aebfac",
   "metadata": {},
   "source": [
    "# Temas:\n",
    "1. Numeros\n",
    "2. Variables\n",
    "3. Manejo de cadenas\n",
    "4. Ingreso de datos por teclado\n",
    "5. Operadores"
   ]
  },
  {
   "cell_type": "markdown",
   "id": "6da18b1d",
   "metadata": {},
   "source": [
    "3. Manejo de cadenas"
   ]
  },
  {
   "cell_type": "code",
   "execution_count": 2,
   "id": "5006ebae",
   "metadata": {},
   "outputs": [],
   "source": [
    "cadena = \"Universidad Nacional Tecnológica de Lima Sur\""
   ]
  },
  {
   "cell_type": "code",
   "execution_count": 3,
   "id": "0d2601fb",
   "metadata": {},
   "outputs": [
    {
     "data": {
      "text/plain": [
       "'Universidad Nacional Tecnológica de Lima Sur'"
      ]
     },
     "execution_count": 3,
     "metadata": {},
     "output_type": "execute_result"
    }
   ],
   "source": [
    "cadena"
   ]
  },
  {
   "cell_type": "code",
   "execution_count": 5,
   "id": "89cd4fdd",
   "metadata": {},
   "outputs": [],
   "source": [
    "#Universidad Nacional Tecnológica de Lima Sur\n",
    "\n",
    "#Posiciones\n",
    "#012345678...\n",
    "#                                   ...-3-2-1"
   ]
  },
  {
   "cell_type": "code",
   "execution_count": 8,
   "id": "9af22fcd",
   "metadata": {},
   "outputs": [
    {
     "data": {
      "text/plain": [
       "'T'"
      ]
     },
     "execution_count": 8,
     "metadata": {},
     "output_type": "execute_result"
    }
   ],
   "source": [
    "cadena[21]"
   ]
  },
  {
   "cell_type": "code",
   "execution_count": 9,
   "id": "4ffe3493",
   "metadata": {},
   "outputs": [
    {
     "data": {
      "text/plain": [
       "'d'"
      ]
     },
     "execution_count": 9,
     "metadata": {},
     "output_type": "execute_result"
    }
   ],
   "source": [
    "cadena[10]"
   ]
  },
  {
   "cell_type": "code",
   "execution_count": 10,
   "id": "f6b3f162",
   "metadata": {},
   "outputs": [
    {
     "data": {
      "text/plain": [
       "' '"
      ]
     },
     "execution_count": 10,
     "metadata": {},
     "output_type": "execute_result"
    }
   ],
   "source": [
    "cadena[-4]"
   ]
  },
  {
   "cell_type": "code",
   "execution_count": 11,
   "id": "56525715",
   "metadata": {},
   "outputs": [
    {
     "data": {
      "text/plain": [
       "'a'"
      ]
     },
     "execution_count": 11,
     "metadata": {},
     "output_type": "execute_result"
    }
   ],
   "source": [
    "cadena[-13]"
   ]
  },
  {
   "cell_type": "code",
   "execution_count": 12,
   "id": "a747d701",
   "metadata": {},
   "outputs": [
    {
     "data": {
      "text/plain": [
       "' '"
      ]
     },
     "execution_count": 12,
     "metadata": {},
     "output_type": "execute_result"
    }
   ],
   "source": [
    "cadena[11]"
   ]
  },
  {
   "cell_type": "code",
   "execution_count": 13,
   "id": "03824019",
   "metadata": {},
   "outputs": [
    {
     "data": {
      "text/plain": [
       "'versidad Nacion'"
      ]
     },
     "execution_count": 13,
     "metadata": {},
     "output_type": "execute_result"
    }
   ],
   "source": [
    "##Para mostrar una subcadena (desde, hasta una antes)\n",
    "cadena[3:18]"
   ]
  },
  {
   "cell_type": "code",
   "execution_count": 14,
   "id": "69bfe34d",
   "metadata": {},
   "outputs": [
    {
     "data": {
      "text/plain": [
       "44"
      ]
     },
     "execution_count": 14,
     "metadata": {},
     "output_type": "execute_result"
    }
   ],
   "source": [
    "#Tamaño de la cadena\n",
    "len(cadena)"
   ]
  },
  {
   "cell_type": "code",
   "execution_count": 15,
   "id": "59535530",
   "metadata": {},
   "outputs": [
    {
     "data": {
      "text/plain": [
       "'UNIVERSIDAD NACIONAL TECNOLÓGICA DE LIMA SUR'"
      ]
     },
     "execution_count": 15,
     "metadata": {},
     "output_type": "execute_result"
    }
   ],
   "source": [
    "#Para mostrar una cadena en mayuscula utilizamos upper()\n",
    "cadena.upper()"
   ]
  },
  {
   "cell_type": "code",
   "execution_count": 16,
   "id": "f69e41e2",
   "metadata": {},
   "outputs": [
    {
     "data": {
      "text/plain": [
       "'universidad nacional tecnológica de lima sur'"
      ]
     },
     "execution_count": 16,
     "metadata": {},
     "output_type": "execute_result"
    }
   ],
   "source": [
    "#Para mostrar una cadena en miniscula utilizamos lower()\n",
    "cadena.lower()"
   ]
  },
  {
   "cell_type": "code",
   "execution_count": 19,
   "id": "625754a0",
   "metadata": {},
   "outputs": [],
   "source": [
    "#Para revertir la cadena"
   ]
  },
  {
   "cell_type": "code",
   "execution_count": 21,
   "id": "f86fe08c",
   "metadata": {},
   "outputs": [
    {
     "data": {
      "text/plain": [
       "['Universidad', 'Nacional', 'Tecnológica', 'de', 'Lima', 'Sur']"
      ]
     },
     "execution_count": 21,
     "metadata": {},
     "output_type": "execute_result"
    }
   ],
   "source": [
    "#Para generar una lista a partir de una cadena.split\n",
    "cadena.split()"
   ]
  },
  {
   "cell_type": "code",
   "execution_count": 23,
   "id": "5ae94721",
   "metadata": {},
   "outputs": [
    {
     "data": {
      "text/plain": [
       "['Universid', 'd N', 'cion', 'l Tecnológic', ' de Lim', ' Sur']"
      ]
     },
     "execution_count": 23,
     "metadata": {},
     "output_type": "execute_result"
    }
   ],
   "source": [
    "#Generar una lista utilizando un criterio de separación a partir de una cadena.split()\n",
    "#En este caso vamos a generar una lista de toda la cadena,\n",
    "#Utilizando como criterio de separación \"a\"\n",
    "cadena.split(\"a\")"
   ]
  },
  {
   "cell_type": "code",
   "execution_count": 25,
   "id": "da323d03",
   "metadata": {},
   "outputs": [
    {
     "name": "stdout",
     "output_type": "stream",
     "text": [
      "Buenos días Daniel Sahuma Jurado\n"
     ]
    }
   ],
   "source": [
    "# Forma clásica, concatenar con +\n",
    "nombre = \"Daniel Sahuma \"\n",
    "apellido2 = \"Jurado\"\n",
    "print(\"Buenos días \" + nombre + apellido2)"
   ]
  },
  {
   "cell_type": "code",
   "execution_count": 27,
   "id": "79f3097f",
   "metadata": {},
   "outputs": [
    {
     "name": "stdout",
     "output_type": "stream",
     "text": [
      "hola Daniel Sahuma  ya sé que tienes 21 años\n"
     ]
    }
   ],
   "source": [
    "#Utilizando el .format()\n",
    "nom = \"Daniel\"\n",
    "edad = 21\n",
    "print(\"hola {} ya sé que tienes {} años\".format(nombre, edad))"
   ]
  },
  {
   "cell_type": "code",
   "execution_count": 29,
   "id": "ffbc124a",
   "metadata": {},
   "outputs": [
    {
     "name": "stdout",
     "output_type": "stream",
     "text": [
      "10/3 es = 3.3333333333333335\n",
      "10/3 es = 3.33 \n"
     ]
    }
   ],
   "source": [
    "#Dar formato a números con muchos decimales\n",
    "resultado = 10/3\n",
    "print(\"10/3 es = {}\".format(resultado))\n",
    "print(\"10/3 es = {r:1.2f} \".format(r=resultado))"
   ]
  },
  {
   "cell_type": "code",
   "execution_count": 31,
   "id": "61e84855",
   "metadata": {},
   "outputs": [
    {
     "name": "stdout",
     "output_type": "stream",
     "text": [
      "Mi nombre es Daniel Sahuma y mi edad es 21\n"
     ]
    }
   ],
   "source": [
    "#Concatenación con \"f\"\n",
    "nombre = \"Daniel Sahuma\"\n",
    "edad = 21\n",
    "print(f\"Mi nombre es {nombre} y mi edad es {edad}\")"
   ]
  },
  {
   "cell_type": "code",
   "execution_count": 32,
   "id": "f292fd14",
   "metadata": {},
   "outputs": [
    {
     "name": "stdout",
     "output_type": "stream",
     "text": [
      "10/3 es = 3.333\n"
     ]
    }
   ],
   "source": [
    "res = 10/3\n",
    "print(f\"10/3 es = {resultado:1.3f}\")"
   ]
  },
  {
   "cell_type": "code",
   "execution_count": null,
   "id": "ab530e24",
   "metadata": {},
   "outputs": [],
   "source": []
  }
 ],
 "metadata": {
  "kernelspec": {
   "display_name": "Python 3 (ipykernel)",
   "language": "python",
   "name": "python3"
  },
  "language_info": {
   "codemirror_mode": {
    "name": "ipython",
    "version": 3
   },
   "file_extension": ".py",
   "mimetype": "text/x-python",
   "name": "python",
   "nbconvert_exporter": "python",
   "pygments_lexer": "ipython3",
   "version": "3.9.13"
  }
 },
 "nbformat": 4,
 "nbformat_minor": 5
}
